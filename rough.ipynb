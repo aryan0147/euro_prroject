{
 "cells": [
  {
   "cell_type": "code",
   "execution_count": 20,
   "metadata": {},
   "outputs": [],
   "source": [
    "import pandas as pd\n",
    "import numpy as np\n",
    "import json"
   ]
  },
  {
   "cell_type": "code",
   "execution_count": 25,
   "metadata": {},
   "outputs": [],
   "source": [
    "df = pd.read_csv('https://raw.githubusercontent.com/mckayjohns/youtube-videos/refs/heads/main/streamlit/euros_2024_shot_map.csv')"
   ]
  },
  {
   "cell_type": "code",
   "execution_count": 9,
   "metadata": {},
   "outputs": [],
   "source": [
    "temp = df[['team','team_id', 'timestamp', 'type']]"
   ]
  },
  {
   "cell_type": "code",
   "execution_count": 26,
   "metadata": {},
   "outputs": [
    {
     "data": {
      "text/plain": [
       "array(['Albania', 'Austria', 'Belgium', 'Croatia', 'Czech Republic',\n",
       "       'Denmark', 'England', 'France', 'Georgia', 'Germany', 'Hungary',\n",
       "       'Italy', 'Netherlands', 'Poland', 'Portugal', 'Romania',\n",
       "       'Scotland', 'Serbia', 'Slovakia', 'Slovenia', 'Spain',\n",
       "       'Switzerland', 'Turkey', 'Ukraine'], dtype=object)"
      ]
     },
     "execution_count": 26,
     "metadata": {},
     "output_type": "execute_result"
    }
   ],
   "source": [
    "df['team'].sort_values().unique()"
   ]
  },
  {
   "cell_type": "code",
   "execution_count": 22,
   "metadata": {},
   "outputs": [],
   "source": [
    "df = df[df['type'] == 'shot'].reset_index(drop=True)\n",
    "df['location'] = df['location'].apply(json.loads)\n",
    "\n",
    "team = df['team'].sort_values().unique()"
   ]
  },
  {
   "cell_type": "code",
   "execution_count": 59,
   "metadata": {},
   "outputs": [
    {
     "data": {
      "text/plain": [
       "25"
      ]
     },
     "execution_count": 59,
     "metadata": {},
     "output_type": "execute_result"
    }
   ],
   "source": [
    "team  = 'Portugal'\n",
    "player = 'Cristiano Ronaldo dos Santos Aveiro'\n",
    "\n",
    "\n",
    "# df[(df['team'] == team) & (df['player'] == player) & (df['shot_outcome'] == 'Goal')].shape[0]\n",
    "df[(df['team'] == team) & (df['player'] == player)].shape[0]\n",
    "\n",
    "\n"
   ]
  },
  {
   "cell_type": "code",
   "execution_count": null,
   "metadata": {},
   "outputs": [],
   "source": []
  },
  {
   "cell_type": "code",
   "execution_count": 46,
   "metadata": {},
   "outputs": [
    {
     "data": {
      "text/plain": [
       "array(['António João Pereira Albuquerque Tavares Silva',\n",
       "       'Bernardo Mota Veiga de Carvalho e Silva',\n",
       "       'Bruno Miguel Borges Fernandes',\n",
       "       'Cristiano Ronaldo dos Santos Aveiro', 'Danilo Luís Hélio Pereira',\n",
       "       'Diogo José Teixeira da Silva', 'Francisco Fernandes Conceição',\n",
       "       'Gonçalo Bernardo Inácio', 'Gonçalo Matias Ramos',\n",
       "       'José Diogo Dalot Teixeira', 'João Félix Sequeira',\n",
       "       'João Maria Lobo Alves Palhinha Gonçalves', 'João Neves',\n",
       "       'João Pedro Cavaco Cancelo', 'Kléper Laveran Lima Ferreira',\n",
       "       'Matheus Luiz Nunes', 'Nuno Mendes', 'Nélson Cabral Semedo',\n",
       "       'Rafael Alexandre Conceição Leão', 'Rúben Diogo Da Silva Neves',\n",
       "       'Rúben Santos Gato Alves Dias', 'Vitor Machado Ferreira'],\n",
       "      dtype=object)"
      ]
     },
     "execution_count": 46,
     "metadata": {},
     "output_type": "execute_result"
    }
   ],
   "source": [
    "df[df['team'] == 'Portugal']['player'].sort_values().unique()\n"
   ]
  },
  {
   "cell_type": "code",
   "execution_count": 38,
   "metadata": {},
   "outputs": [
    {
     "data": {
      "text/plain": [
       "1340"
      ]
     },
     "execution_count": 38,
     "metadata": {},
     "output_type": "execute_result"
    }
   ],
   "source": [
    "df['player'].__len__()"
   ]
  },
  {
   "cell_type": "code",
   "execution_count": 36,
   "metadata": {},
   "outputs": [
    {
     "data": {
      "text/plain": [
       "array(['Shot'], dtype=object)"
      ]
     },
     "execution_count": 36,
     "metadata": {},
     "output_type": "execute_result"
    }
   ],
   "source": [
    "df['type'].unique()"
   ]
  },
  {
   "cell_type": "code",
   "execution_count": 23,
   "metadata": {},
   "outputs": [
    {
     "data": {
      "text/plain": [
       "array([], dtype=object)"
      ]
     },
     "execution_count": 23,
     "metadata": {},
     "output_type": "execute_result"
    }
   ],
   "source": [
    "team"
   ]
  },
  {
   "cell_type": "code",
   "execution_count": 32,
   "metadata": {},
   "outputs": [
    {
     "data": {
      "text/plain": [
       "array(['Albania', 'Austria', 'Belgium', 'Croatia', 'Czech Republic',\n",
       "       'Denmark', 'England', 'France', 'Georgia', 'Germany', 'Hungary',\n",
       "       'Italy', 'Netherlands', 'Poland', 'Portugal', 'Romania',\n",
       "       'Scotland', 'Serbia', 'Slovakia', 'Slovenia', 'Spain',\n",
       "       'Switzerland', 'Turkey', 'Ukraine'], dtype=object)"
      ]
     },
     "execution_count": 32,
     "metadata": {},
     "output_type": "execute_result"
    }
   ],
   "source": [
    "df['team'].sort_values().unique()"
   ]
  },
  {
   "cell_type": "code",
   "execution_count": 31,
   "metadata": {},
   "outputs": [
    {
     "data": {
      "text/plain": [
       "0        [99.6, 51.2]\n",
       "1        [88.2, 36.6]\n",
       "2       [104.5, 41.6]\n",
       "3       [108.1, 40.0]\n",
       "4       [117.0, 47.6]\n",
       "            ...      \n",
       "1335    [102.8, 25.6]\n",
       "1336     [98.9, 55.4]\n",
       "1337     [92.6, 43.3]\n",
       "1338    [108.8, 50.0]\n",
       "1339     [98.5, 39.4]\n",
       "Name: location, Length: 1340, dtype: object"
      ]
     },
     "execution_count": 31,
     "metadata": {},
     "output_type": "execute_result"
    }
   ],
   "source": [
    "df['location'].apply(json.loads)"
   ]
  },
  {
   "cell_type": "code",
   "execution_count": 28,
   "metadata": {},
   "outputs": [
    {
     "data": {
      "text/html": [
       "<div>\n",
       "<style scoped>\n",
       "    .dataframe tbody tr th:only-of-type {\n",
       "        vertical-align: middle;\n",
       "    }\n",
       "\n",
       "    .dataframe tbody tr th {\n",
       "        vertical-align: top;\n",
       "    }\n",
       "\n",
       "    .dataframe thead th {\n",
       "        text-align: right;\n",
       "    }\n",
       "</style>\n",
       "<table border=\"1\" class=\"dataframe\">\n",
       "  <thead>\n",
       "    <tr style=\"text-align: right;\">\n",
       "      <th></th>\n",
       "      <th>50_50</th>\n",
       "      <th>bad_behaviour_card</th>\n",
       "      <th>ball_receipt_outcome</th>\n",
       "      <th>block_deflection</th>\n",
       "      <th>block_save_block</th>\n",
       "      <th>carry_end_location</th>\n",
       "      <th>clearance_aerial_won</th>\n",
       "      <th>clearance_body_part</th>\n",
       "      <th>clearance_head</th>\n",
       "      <th>clearance_left_foot</th>\n",
       "      <th>...</th>\n",
       "      <th>shot_saved_to_post</th>\n",
       "      <th>goalkeeper_success_in_play</th>\n",
       "      <th>ball_recovery_offensive</th>\n",
       "      <th>dribble_no_touch</th>\n",
       "      <th>player_off_permanent</th>\n",
       "      <th>goalkeeper_penalty_saved_to_post</th>\n",
       "      <th>goalkeeper_shot_saved_off_target</th>\n",
       "      <th>shot_follows_dribble</th>\n",
       "      <th>shot_saved_off_target</th>\n",
       "      <th>shot_redirect</th>\n",
       "    </tr>\n",
       "  </thead>\n",
       "  <tbody>\n",
       "  </tbody>\n",
       "</table>\n",
       "<p>0 rows × 89 columns</p>\n",
       "</div>"
      ],
      "text/plain": [
       "Empty DataFrame\n",
       "Columns: [50_50, bad_behaviour_card, ball_receipt_outcome, block_deflection, block_save_block, carry_end_location, clearance_aerial_won, clearance_body_part, clearance_head, clearance_left_foot, clearance_right_foot, counterpress, dribble_outcome, duel_outcome, duel_type, duration, foul_committed_advantage, foul_committed_card, foul_committed_penalty, foul_won_advantage, foul_won_defensive, foul_won_penalty, goalkeeper_body_part, goalkeeper_end_location, goalkeeper_outcome, goalkeeper_position, goalkeeper_punched_out, goalkeeper_technique, goalkeeper_type, id, index, injury_stoppage_in_chain, interception_outcome, location, match_id, minute, off_camera, out, period, play_pattern, player, player_id, position, possession, possession_team, possession_team_id, related_events, second, shot_aerial_won, shot_body_part, shot_deflected, shot_end_location, shot_first_time, shot_freeze_frame, shot_outcome, shot_statsbomb_xg, shot_technique, shot_type, substitution_outcome, substitution_outcome_id, substitution_replacement, substitution_replacement_id, tactics, team, team_id, timestamp, type, under_pressure, ball_recovery_recovery_failure, block_offensive, dribble_nutmeg, dribble_overrun, foul_committed_offensive, shot_one_on_one, clearance_other, foul_committed_type, miscontrol_aerial_won, goalkeeper_shot_saved_to_post, shot_open_goal, shot_saved_to_post, goalkeeper_success_in_play, ball_recovery_offensive, dribble_no_touch, player_off_permanent, goalkeeper_penalty_saved_to_post, goalkeeper_shot_saved_off_target, shot_follows_dribble, shot_saved_off_target, shot_redirect]\n",
       "Index: []\n",
       "\n",
       "[0 rows x 89 columns]"
      ]
     },
     "execution_count": 28,
     "metadata": {},
     "output_type": "execute_result"
    }
   ],
   "source": [
    "df[df['type'] == 'shot']"
   ]
  }
 ],
 "metadata": {
  "kernelspec": {
   "display_name": "Python 3",
   "language": "python",
   "name": "python3"
  },
  "language_info": {
   "codemirror_mode": {
    "name": "ipython",
    "version": 3
   },
   "file_extension": ".py",
   "mimetype": "text/x-python",
   "name": "python",
   "nbconvert_exporter": "python",
   "pygments_lexer": "ipython3",
   "version": "3.12.4"
  }
 },
 "nbformat": 4,
 "nbformat_minor": 2
}
